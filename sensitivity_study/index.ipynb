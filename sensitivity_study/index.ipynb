{
 "cells": [
  {
   "cell_type": "markdown",
   "metadata": {
    "toc": "true"
   },
   "source": [
    "# Table of Contents\n",
    " <p><div class=\"lev1\"><a href=\"#Build-a-list-of-snowpack\"><span class=\"toc-item-num\">1&nbsp;&nbsp;</span>Build a list of snowpack</a></div><div class=\"lev1\"><a href=\"#Run-the-model\"><span class=\"toc-item-num\">2&nbsp;&nbsp;</span>Run the model</a></div>"
   ]
  },
  {
   "cell_type": "markdown",
   "metadata": {},
   "source": [
    "How to run a sensitivity study on snowpack properties ?\n",
    "\n",
    "SMRT is able to run the model for a sensor that have a list of frequencies, angles or polarization automatically. However, for snowpack properties setting for instance the corr_length in a layer to a list (or array) does not work (yet). It is necessary to do a little more programming, but it is not so complex.\n",
    "\n",
    "First import the various module we always need:"
   ]
  },
  {
   "cell_type": "code",
   "execution_count": 1,
   "metadata": {
    "collapsed": false
   },
   "outputs": [],
   "source": [
    "import numpy as np\n",
    "import smrt\n",
    "import matplotlib.pyplot as plt\n",
    "%matplotlib inline"
   ]
  },
  {
   "cell_type": "markdown",
   "metadata": {},
   "source": [
    "# Build a list of snowpack\n",
    "\n",
    "We want to test the sensitivity of TB's to the corr_length. We first build a list of snowpack with different corr_length"
   ]
  },
  {
   "cell_type": "code",
   "execution_count": 2,
   "metadata": {
    "collapsed": false
   },
   "outputs": [],
   "source": [
    "# prepare the snowpack\n",
    "density = 300.0\n",
    "corr_length = np.arange(0, 0.5, 0.01) *1e-3  # from 0 to 0.5mm\n",
    "\n",
    "# the naive way: without list comprehension\n",
    "\n",
    "snowpack = list()\n",
    "for x in corr_length:\n",
    "    sp = smrt.make_snowpack([10], \"exponential\", density=[density], temperature=[265], corr_length=x)\n",
    "    snowpack.append(sp)"
   ]
  },
  {
   "cell_type": "markdown",
   "metadata": {},
   "source": [
    "A better way is to use list comprehension. To achieve the same as these latter 4 last lines:"
   ]
  },
  {
   "cell_type": "code",
   "execution_count": 3,
   "metadata": {
    "collapsed": false
   },
   "outputs": [],
   "source": [
    "# the one-liner one: with list comprehension (start reading by the end)\n",
    "snowpack = [smrt.make_snowpack([10], \"exponential\", density=[density], temperature=[265], corr_length=x) for x in corr_length]"
   ]
  },
  {
   "cell_type": "markdown",
   "metadata": {},
   "source": [
    "# Run the model\n",
    "\n",
    "Let's first define a model and a sensor. "
   ]
  },
  {
   "cell_type": "code",
   "execution_count": 5,
   "metadata": {
    "collapsed": false
   },
   "outputs": [],
   "source": [
    "model = smrt.make_model(\"iba\", \"dort\")\n",
    "sensor = smrt.sensor_list.passive(37e9, 55)"
   ]
  },
  {
   "cell_type": "markdown",
   "metadata": {},
   "source": [
    "Now we have a list of snowpacks, we want to call the model for each snowpack. We can use list comprehension again."
   ]
  },
  {
   "cell_type": "code",
   "execution_count": 6,
   "metadata": {
    "collapsed": false
   },
   "outputs": [],
   "source": [
    "results = [model.run(sensor, sp) for sp in snowpack]"
   ]
  },
  {
   "cell_type": "markdown",
   "metadata": {},
   "source": [
    "This return a list of results. To extract the TB V for each result can be done with another list comprehension. And then we plot the results."
   ]
  },
  {
   "cell_type": "code",
   "execution_count": 7,
   "metadata": {
    "collapsed": false
   },
   "outputs": [
    {
     "data": {
      "text/plain": [
       "[<matplotlib.lines.Line2D at 0x7fa6c0303f28>]"
      ]
     },
     "execution_count": 7,
     "metadata": {},
     "output_type": "execute_result"
    },
    {
     "data": {
      "image/png": "[encoded data removed]",
      "text/plain": [
       "<matplotlib.figure.Figure at 0x7fa6c030ac18>"
      ]
     },
     "metadata": {},
     "output_type": "display_data"
    }
   ],
   "source": [
    "tbv = [res.TbV() for res in results]\n",
    "plt.figure()\n",
    "plt.plot(corr_length, tbv)"
   ]
  },
  {
   "cell_type": "markdown",
   "metadata": {},
   "source": [
    "Nice ? We can do better because Model can directly run on a list of snowpacks. However, it does not return a list of results, but simply a unique result with a new coordinate."
   ]
  },
  {
   "cell_type": "code",
   "execution_count": 8,
   "metadata": {
    "collapsed": false,
    "scrolled": true
   },
   "outputs": [
    {
     "name": "stdout",
     "output_type": "stream",
     "text": [
      "<class 'smrt.core.result.Result'>\n",
      "\n",
      "Coordinates:\n",
      "  * theta         (theta) float64 0.9599\n",
      "  * polarization  (polarization) <U1 'V' 'H'\n",
      "  * corr_length   (corr_length) float64 0.0 1e-05 2e-05 3e-05 4e-05 5e-05 ...\n"
     ]
    }
   ],
   "source": [
    "results = model.run(sensor, snowpack, snowpack_dimension=('corr_length', corr_length))\n",
    "print(type(results))  # look results is a Result\n",
    "print()\n",
    "print(results.coords) # look, we have several coordinates, one is call corr_legn"
   ]
  },
  {
   "cell_type": "markdown",
   "metadata": {},
   "source": [
    "Now we can call TbV() directly because we have a Result instance"
   ]
  },
  {
   "cell_type": "code",
   "execution_count": 8,
   "metadata": {
    "collapsed": false
   },
   "outputs": [
    {
     "data": {
      "text/plain": [
       "[<matplotlib.lines.Line2D at 0x7f57001ceba8>]"
      ]
     },
     "execution_count": 8,
     "metadata": {},
     "output_type": "execute_result"
    },
    {
     "data": {
      "image/png": "[encoded data removed]",
      "text/plain": [
       "<matplotlib.figure.Figure at 0x7f5702de1828>"
      ]
     },
     "metadata": {},
     "output_type": "display_data"
    }
   ],
   "source": [
    "plt.figure()\n",
    "plt.plot(corr_length, results.TbV())"
   ]
  },
  {
   "cell_type": "code",
   "execution_count": null,
   "metadata": {
    "collapsed": true
   },
   "outputs": [],
   "source": []
  }
 ],
 "metadata": {
  "anaconda-cloud": {},
  "hide_input": false,
  "kernelspec": {
   "display_name": "Python 2",
   "language": "python",
   "name": "python2"
  },
  "language_info": {
   "codemirror_mode": {
    "name": "ipython",
    "version": 2
   },
   "file_extension": ".py",
   "mimetype": "text/x-python",
   "name": "python",
   "nbconvert_exporter": "python",
   "pygments_lexer": "ipython2",
   "version": "2.7.13"
  },
  "nav_menu": {},
  "toc": {
   "navigate_menu": true,
   "number_sections": true,
   "sideBar": true,
   "threshold": 6,
   "toc_cell": true,
   "toc_section_display": "block",
   "toc_window_display": false
  }
 },
 "nbformat": 4,
 "nbformat_minor": 0
}
