{
 "cells": [
  {
   "cell_type": "markdown",
   "metadata": {
    "toc": "true"
   },
   "source": [
    "# Table of Contents\n",
    " <p>"
   ]
  },
  {
   "cell_type": "code",
   "execution_count": 1,
   "metadata": {
    "collapsed": true
   },
   "outputs": [],
   "source": [
    "import os\n",
    "\n",
    "# general import for smrt\n",
    "from smrt import make_snowpack, make_model, sensor\n",
    "\n",
    "# import for memls\n",
    "from smrt.utils import memls_legacy\n",
    "\n",
    "\n",
    "import matplotlib.pyplot as plt\n",
    "%matplotlib inline"
   ]
  },
  {
   "cell_type": "markdown",
   "metadata": {},
   "source": [
    "Prepare the snowpack and the sensor"
   ]
  },
  {
   "cell_type": "code",
   "execution_count": 2,
   "metadata": {
    "collapsed": false
   },
   "outputs": [],
   "source": [
    "# prepare snowpack\n",
    "pc=0.2e-3\n",
    "snowpack = make_snowpack([10], \"exponential\",\n",
    "                        density=[300], temperature=[265], corr_length=pc)\n",
    "\n",
    "# create the sensor\n",
    "theta = range(10, 80, 5)\n",
    "radiometer = sensor.passive(37e9, theta)"
   ]
  },
  {
   "cell_type": "markdown",
   "metadata": {},
   "source": [
    "Run SMRT with IBA + DORT"
   ]
  },
  {
   "cell_type": "code",
   "execution_count": 3,
   "metadata": {
    "collapsed": false
   },
   "outputs": [],
   "source": [
    "# create the EM Model\n",
    "m = make_model(\"iba\", \"dort\")\n",
    "\n",
    "# run the model\n",
    "sresult = m.run(radiometer, snowpack)"
   ]
  },
  {
   "cell_type": "markdown",
   "metadata": {},
   "source": [
    "Run MEMLS matlab code"
   ]
  },
  {
   "cell_type": "code",
   "execution_count": 4,
   "metadata": {
    "collapsed": false
   },
   "outputs": [],
   "source": [
    "# set the path where memls matlab code is\n",
    "mresult = memls_legacy.run(radiometer, snowpack)"
   ]
  },
  {
   "cell_type": "code",
   "execution_count": 5,
   "metadata": {
    "collapsed": false
   },
   "outputs": [
    {
     "data": {
      "text/plain": [
       "<matplotlib.legend.Legend at 0x7ff5c40fba58>"
      ]
     },
     "execution_count": 5,
     "metadata": {},
     "output_type": "execute_result"
    },
    {
     "data": {
      "image/png": "[encoded data removed]",
      "text/plain": [
       "<matplotlib.figure.Figure at 0x7ff5c40c6898>"
      ]
     },
     "metadata": {},
     "output_type": "display_data"
    }
   ],
   "source": [
    "# outputs\n",
    "# outputs\n",
    "plt.plot(theta, sresult.TbV(), 'r-', label='SMRT V')\n",
    "plt.plot(theta, sresult.TbH(), 'r--', label='SMRT H')\n",
    "plt.plot(theta, mresult.TbV(), 'b-', label='MEMLS V')\n",
    "plt.plot(theta, mresult.TbH(), 'b--', label='MEMLS H')\n",
    "plt.legend(loc='best')"
   ]
  }
 ],
 "metadata": {
  "hide_input": false,
  "kernelspec": {
   "display_name": "Python 3",
   "language": "python",
   "name": "python3"
  },
  "language_info": {
   "codemirror_mode": {
    "name": "ipython",
    "version": 3
   },
   "file_extension": ".py",
   "mimetype": "text/x-python",
   "name": "python",
   "nbconvert_exporter": "python",
   "pygments_lexer": "ipython3",
   "version": "3.5.1"
  },
  "nav_menu": {},
  "toc": {
   "navigate_menu": true,
   "number_sections": true,
   "sideBar": true,
   "threshold": 6,
   "toc_cell": true,
   "toc_section_display": "none",
   "toc_window_display": true
  },
  "toc_position": {
   "height": "722px",
   "left": "0px",
   "right": "1601px",
   "top": "145px",
   "width": "159px"
  }
 },
 "nbformat": 4,
 "nbformat_minor": 0
}
